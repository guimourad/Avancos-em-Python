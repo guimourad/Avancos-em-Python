{
 "cells": [
  {
   "cell_type": "markdown",
   "metadata": {},
   "source": [
    "## Oferecendo desconto para cliente com base na última compra\n",
    "\n",
    "Suponha que você está trabalhando para uma empresa que deseja rastrear a atividade do cliente. Uma métrica que eles estão interessados é o tempo que passou desde a última transação do cliente. Se for muito tempo, eles podem oferecer um desconto para o cliente. Crie um script Python que mostra quanto tempo se passou desde a última compra do cliente (10 de maio de 2024). Se faz mais de 30 dias, mostre uma mensagem oferecendo um desconto para o cliente."
   ]
  },
  {
   "cell_type": "code",
   "execution_count": 8,
   "metadata": {},
   "outputs": [
    {
     "name": "stdout",
     "output_type": "stream",
     "text": [
      "2024-05-10 00:00:00\n",
      "2024-07-22 23:31:00.351407\n",
      "73\n",
      "voce ganhou um descontooooooooooo\n"
     ]
    }
   ],
   "source": [
    "from datetime import datetime\n",
    "ultima_compra = datetime(2024, 5, 10)\n",
    "print(ultima_compra)\n",
    "\n",
    "hoje = datetime.now()\n",
    "print(hoje)\n",
    "\n",
    "diferenca = hoje - ultima_compra\n",
    "\n",
    "print(diferenca.days)\n",
    "\n",
    "if diferenca.days > 30:\n",
    "    print('voce ganhou um descontooooooooooo')\n"
   ]
  },
  {
   "cell_type": "markdown",
   "metadata": {},
   "source": [
    "## Data e hora em diferentes fusos horários\n",
    "\n",
    "Uma empresa tem escritórios em São Paulo, Nova York e Tóquio. Crie um script Python que mostra a data e hora atuais nesses três fusos horários. Exiba, também, se estes escritórios estão abertos ou fechados (9h às 17h).\n"
   ]
  },
  {
   "cell_type": "code",
   "execution_count": 16,
   "metadata": {},
   "outputs": [
    {
     "name": "stdout",
     "output_type": "stream",
     "text": [
      "Data/hora atual em São Paulo: 2024-07-22 23:39:26.695471-03:00\n",
      "<class 'datetime.datetime'>\n"
     ]
    }
   ],
   "source": [
    "from datetime import datetime\n",
    "from zoneinfo import ZoneInfo\n",
    "\n",
    "data_hora_atual = datetime.now()\n",
    "\n",
    "fuso_horario_sao_paulo = ZoneInfo('America/Sao_Paulo')\n",
    "data_hora_sao_paulo = data_hora_atual.astimezone(fuso_horario_sao_paulo)\n",
    "print(f\"Data/hora atual em São Paulo: {data_hora_sao_paulo}\") \n",
    "\n",
    "print(type(data_hora_sao_paulo))"
   ]
  },
  {
   "cell_type": "code",
   "execution_count": 14,
   "metadata": {},
   "outputs": [
    {
     "name": "stdout",
     "output_type": "stream",
     "text": [
      "Data/hora atual em Nova York: 2024-07-22 22:34:50.140588-04:00\n"
     ]
    }
   ],
   "source": [
    "fuso_horario_ny = ZoneInfo('America/New_York')\n",
    "data_hora_ny = data_hora_atual.astimezone(fuso_horario_ny)\n",
    "print(f\"Data/hora atual em Nova York: {data_hora_ny}\") "
   ]
  },
  {
   "cell_type": "code",
   "execution_count": 15,
   "metadata": {},
   "outputs": [
    {
     "name": "stdout",
     "output_type": "stream",
     "text": [
      "Data/hora atual em Nova York: 2024-07-23 11:34:50.140588+09:00\n"
     ]
    }
   ],
   "source": [
    "fuso_horario_tokyo = ZoneInfo('Asia/Tokyo')\n",
    "data_hora_tokyo = data_hora_atual.astimezone(fuso_horario_tokyo)\n",
    "print(f\"Data/hora atual em Nova York: {data_hora_tokyo}\")"
   ]
  },
  {
   "cell_type": "code",
   "execution_count": 19,
   "metadata": {},
   "outputs": [
    {
     "name": "stdout",
     "output_type": "stream",
     "text": [
      "escritorio de Sao Paulo esta fechado\n",
      "escritorio de Nova Iorque esta fechado\n",
      "escritorio de Toquio esta aberto\n"
     ]
    }
   ],
   "source": [
    "def verifica_horario(data_hora):\n",
    "    if 9 <= data_hora.hour < 17:\n",
    "        return 'aberto'\n",
    "    else:\n",
    "        return 'fechado'\n",
    "print(f'escritorio de Sao Paulo esta {verifica_horario(data_hora_sao_paulo)}')\n",
    "print(f'escritorio de Nova Iorque esta {verifica_horario(data_hora_ny)}')\n",
    "print(f'escritorio de Toquio esta {verifica_horario(data_hora_tokyo)}')\n",
    "    "
   ]
  }
 ],
 "metadata": {
  "kernelspec": {
   "display_name": "Python 3 (ipykernel)",
   "language": "python",
   "name": "python3"
  },
  "language_info": {
   "codemirror_mode": {
    "name": "ipython",
    "version": 3
   },
   "file_extension": ".py",
   "mimetype": "text/x-python",
   "name": "python",
   "nbconvert_exporter": "python",
   "pygments_lexer": "ipython3",
   "version": "3.11.1"
  }
 },
 "nbformat": 4,
 "nbformat_minor": 4
}

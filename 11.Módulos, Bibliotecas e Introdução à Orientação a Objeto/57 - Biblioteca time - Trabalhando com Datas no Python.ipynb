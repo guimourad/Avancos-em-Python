{
 "cells": [
  {
   "cell_type": "markdown",
   "id": "a5da8a33",
   "metadata": {},
   "source": [
    "# Modulo time\n",
    "\n",
    "### Estrutura: Um dos módulos mais usados no Python para trabalhar com datas, fazer o programa esperar algum tempo"
   ]
  },
  {
   "cell_type": "code",
   "execution_count": 1,
   "id": "6a593b43",
   "metadata": {
    "scrolled": true
   },
   "outputs": [],
   "source": [
    "import time"
   ]
  },
  {
   "cell_type": "markdown",
   "id": "5f16c8a5",
   "metadata": {},
   "source": [
    "- Marco Zero: EPOCH (01 de janeiro de 1970 às 00:00:00)\n",
    "- time() retorna quantos segundos se passaram desde a EPOCH"
   ]
  },
  {
   "cell_type": "code",
   "execution_count": 2,
   "id": "77b050ec",
   "metadata": {
    "scrolled": true
   },
   "outputs": [
    {
     "name": "stdout",
     "output_type": "stream",
     "text": [
      "1720734259.4631479\n"
     ]
    }
   ],
   "source": [
    "segundos_hoje = time.time()\n",
    "print(segundos_hoje)"
   ]
  },
  {
   "cell_type": "markdown",
   "id": "8e8f070f",
   "metadata": {},
   "source": [
    "- ctime() retorna a data em string"
   ]
  },
  {
   "cell_type": "code",
   "execution_count": 17,
   "id": "20e97c7f",
   "metadata": {
    "scrolled": true
   },
   "outputs": [
    {
     "name": "stdout",
     "output_type": "stream",
     "text": [
      "Thu Jul 11 18:45:45 2024\n"
     ]
    }
   ],
   "source": [
    "data_hoje = time.ctime()\n",
    "#data_hoje = time.ctime(time())\n",
    "print(data_hoje)"
   ]
  },
  {
   "cell_type": "markdown",
   "id": "426cf932",
   "metadata": {},
   "source": [
    "Isso já pode ser muito útil para medir o tempo que um código leva para rodar"
   ]
  },
  {
   "cell_type": "code",
   "execution_count": 21,
   "id": "77386fd4",
   "metadata": {
    "scrolled": true
   },
   "outputs": [
    {
     "name": "stdout",
     "output_type": "stream",
     "text": [
      "o programa levou 2.7247114181518555 segundos para roda\n"
     ]
    }
   ],
   "source": [
    "tempo_inicial = time.time()\n",
    "for i in range(100000000):\n",
    "    pass\n",
    "tempo_final = time.time()\n",
    "duracao = tempo_final - tempo_inicial\n",
    "print(f'o programa levou {duracao} segundos para roda')"
   ]
  },
  {
   "cell_type": "markdown",
   "id": "f65e18c7",
   "metadata": {},
   "source": [
    "Fazer o programa esperar alguns segundos (muito útil quando temos que esperar um programa ou uma página carregar)"
   ]
  },
  {
   "cell_type": "code",
   "execution_count": 22,
   "id": "b8ab981d",
   "metadata": {
    "scrolled": true
   },
   "outputs": [
    {
     "name": "stdout",
     "output_type": "stream",
     "text": [
      "começando\n",
      "rodou apos 5 segundos\n"
     ]
    }
   ],
   "source": [
    "#para esperar 5 segundos\n",
    "print('começando')\n",
    "time.sleep(5)\n",
    "print('rodou apos 5 segundos')"
   ]
  },
  {
   "cell_type": "markdown",
   "id": "25ec9489",
   "metadata": {},
   "source": [
    "Pegar informações de dias, hora, minuto, segundo, tudo detalhado:\n",
    "- gmtime()\n",
    "- localtime()"
   ]
  },
  {
   "cell_type": "code",
   "execution_count": 25,
   "id": "5e366342",
   "metadata": {
    "scrolled": true
   },
   "outputs": [
    {
     "name": "stdout",
     "output_type": "stream",
     "text": [
      "time.struct_time(tm_year=2024, tm_mon=7, tm_mday=11, tm_hour=22, tm_min=8, tm_sec=2, tm_wday=3, tm_yday=193, tm_isdst=0)\n",
      "time.struct_time(tm_year=2024, tm_mon=7, tm_mday=11, tm_hour=19, tm_min=8, tm_sec=2, tm_wday=3, tm_yday=193, tm_isdst=0)\n"
     ]
    }
   ],
   "source": [
    "hora_geral = time.gmtime() #padrao UTC\n",
    "hora_local = time.localtime()\n",
    "print(hora_geral)\n",
    "print(hora_local)"
   ]
  },
  {
   "cell_type": "markdown",
   "id": "adc358f4",
   "metadata": {},
   "source": [
    "Qualquer struct_time permite você pegar as informações da data fazendo:\n",
    "- gmtime().parametro\n",
    "- localtime().parametro"
   ]
  },
  {
   "cell_type": "code",
   "execution_count": 26,
   "id": "31e7c136",
   "metadata": {
    "scrolled": true
   },
   "outputs": [
    {
     "name": "stdout",
     "output_type": "stream",
     "text": [
      "11/7/2024\n"
     ]
    }
   ],
   "source": [
    "dia = hora_local.tm_mday\n",
    "mes = hora_local.tm_mon\n",
    "ano = hora_local.tm_year\n",
    "dai_da_semana = hora_local.tm_wday\n",
    "\n",
    "print(f'{dia}/{mes}/{ano}')"
   ]
  },
  {
   "cell_type": "markdown",
   "id": "d3685ea0",
   "metadata": {},
   "source": [
    "Mais detalhes e mais exercícios nas próximas aulas\n",
    "\n",
    "Mais bibliotecas novas nos próximos módulos"
   ]
  }
 ],
 "metadata": {
  "kernelspec": {
   "display_name": "Python 3 (ipykernel)",
   "language": "python",
   "name": "python3"
  },
  "language_info": {
   "codemirror_mode": {
    "name": "ipython",
    "version": 3
   },
   "file_extension": ".py",
   "mimetype": "text/x-python",
   "name": "python",
   "nbconvert_exporter": "python",
   "pygments_lexer": "ipython3",
   "version": "3.11.1"
  }
 },
 "nbformat": 4,
 "nbformat_minor": 5
}

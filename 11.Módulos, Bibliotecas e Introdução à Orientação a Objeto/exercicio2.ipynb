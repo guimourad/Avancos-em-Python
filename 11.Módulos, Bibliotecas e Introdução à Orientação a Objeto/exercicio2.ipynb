{
 "cells": [
  {
   "cell_type": "markdown",
   "metadata": {},
   "source": [
    "## Tempo até o próximo ano\n",
    "\n",
    "Crie um script Python que calcula quantos dias, horas, minutos e segundos faltam até o próximo Ano Novo.\n",
    "\n"
   ]
  },
  {
   "cell_type": "markdown",
   "metadata": {
    "tags": []
   },
   "source": [
    "Lembrar da tupla de struct_time: https://docs.python.org/3/library/time.html#time.struct_time"
   ]
  },
  {
   "cell_type": "code",
   "execution_count": 84,
   "metadata": {
    "tags": []
   },
   "outputs": [
    {
     "name": "stdout",
     "output_type": "stream",
     "text": [
      "Segundos em um minuto: 60 s\n",
      "Segundos em uma hora: 3600 s\n",
      "Segundos em um dia: 86400 s\n"
     ]
    }
   ],
   "source": [
    "# lembrando\n",
    "\n",
    "segundos_por_minuto = 60\n",
    "segundos_por_hora = 60 * 60\n",
    "segundos_por_dia = 24 * 60 * 60\n",
    "\n",
    "print(f\"Segundos em um minuto: {segundos_por_minuto} s\")\n",
    "print(f\"Segundos em uma hora: {segundos_por_hora} s\")\n",
    "print(f\"Segundos em um dia: {segundos_por_dia} s\")"
   ]
  },
  {
   "cell_type": "markdown",
   "metadata": {
    "tags": []
   },
   "source": [
    "Lembrando de divisão:\n",
    "\n",
    "![divisao](https://escolaeducacao.com.br/wp-content/uploads/2020/01/algoritmo-divisao.png)"
   ]
  },
  {
   "cell_type": "code",
   "execution_count": 85,
   "metadata": {},
   "outputs": [],
   "source": [
    "import time"
   ]
  },
  {
   "cell_type": "code",
   "execution_count": 86,
   "metadata": {},
   "outputs": [
    {
     "name": "stdout",
     "output_type": "stream",
     "text": [
      "time.struct_time(tm_year=2024, tm_mon=7, tm_mday=16, tm_hour=22, tm_min=33, tm_sec=48, tm_wday=1, tm_yday=198, tm_isdst=0)\n"
     ]
    }
   ],
   "source": [
    "tempo_atual = time.localtime()\n",
    "print(tempo_atual)"
   ]
  },
  {
   "cell_type": "code",
   "execution_count": 87,
   "metadata": {},
   "outputs": [
    {
     "name": "stdout",
     "output_type": "stream",
     "text": [
      "(2025, 1, 1, 0, 0, 0, 0, 0, 0)\n"
     ]
    }
   ],
   "source": [
    "\n",
    "tempo_ano_novo = (tempo_atual.tm_year + 1, 1, 1, 0, 0, 0, 0, 0, 0)\n",
    "print(tempo_ano_novo)"
   ]
  },
  {
   "cell_type": "code",
   "execution_count": 88,
   "metadata": {},
   "outputs": [
    {
     "name": "stdout",
     "output_type": "stream",
     "text": [
      "14520372\n"
     ]
    }
   ],
   "source": [
    "segundos_restantes = int(time.mktime(tempo_ano_novo) - time.mktime(tempo_atual))\n",
    "print(segundos_restantes)"
   ]
  },
  {
   "cell_type": "code",
   "execution_count": 89,
   "metadata": {},
   "outputs": [
    {
     "name": "stdout",
     "output_type": "stream",
     "text": [
      "168\n",
      "5172\n"
     ]
    }
   ],
   "source": [
    "#calculando quanto tempo falta por dia, horas e minutos\n",
    "dias, resto = divmod(segundos_restantes, segundos_por_dia)\n",
    "print(dias)\n",
    "print(resto)"
   ]
  },
  {
   "cell_type": "code",
   "execution_count": 90,
   "metadata": {},
   "outputs": [
    {
     "name": "stdout",
     "output_type": "stream",
     "text": [
      "1\n",
      "1572\n",
      "26\n",
      "12\n"
     ]
    }
   ],
   "source": [
    "horas, resto = divmod(resto, segundos_por_hora)\n",
    "print(horas)\n",
    "print(resto)\n",
    "\n",
    "minutos, resto = divmod(resto, segundos_por_minuto)\n",
    "print(minutos)\n",
    "print(resto)"
   ]
  },
  {
   "cell_type": "code",
   "execution_count": 91,
   "metadata": {},
   "outputs": [
    {
     "name": "stdout",
     "output_type": "stream",
     "text": [
      "168\n",
      "1\n",
      "26\n",
      "12\n",
      "tempo que falta para o ano novo: 168 dias, 1 horas, 26 minutos, 12 segundos\n"
     ]
    }
   ],
   "source": [
    "#quanto tempo falta para o ano novo\n",
    "print(dias)\n",
    "print(horas)\n",
    "print(minutos)\n",
    "print(resto)\n",
    "print(f'tempo que falta para o ano novo: {dias} dias, {horas} horas, {minutos} minutos, {resto} segundos')"
   ]
  }
 ],
 "metadata": {
  "kernelspec": {
   "display_name": "Python 3 (ipykernel)",
   "language": "python",
   "name": "python3"
  },
  "language_info": {
   "codemirror_mode": {
    "name": "ipython",
    "version": 3
   },
   "file_extension": ".py",
   "mimetype": "text/x-python",
   "name": "python",
   "nbconvert_exporter": "python",
   "pygments_lexer": "ipython3",
   "version": "3.11.1"
  }
 },
 "nbformat": 4,
 "nbformat_minor": 4
}

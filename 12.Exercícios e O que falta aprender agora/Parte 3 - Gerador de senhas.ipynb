{
 "cells": [
  {
   "cell_type": "markdown",
   "id": "74b1c214-34d8-43a1-867b-1055887eca93",
   "metadata": {},
   "source": [
    "Escreva um programa que gere uma senha aleatória com um determinado comprimento. A senha deve conter uma mistura de letras, números e caracteres especiais. O comprimento da senha deve ser fornecido pelo usuário. Se o comprimento for menor que 4, imprima uma mensagem de erro e peça ao usuário para fornecer um novo comprimento.\n",
    "\n",
    "A senha deve ser aleatória, então cada vez que o usuário executar o programa, uma nova senha deve ser gerada. Obrigatoriamente, a senha deve conter pelo menos uma letra, um número e um caractere especial. A senha não pode conter espaços em branco.\n",
    "\n",
    "O programa deve conter uma função chamada `gerar_senha` que recebe o comprimento da senha como parâmetro e retorna a senha gerada. Se o comprimento for inválido, a função deve retornar None.\n",
    "\n",
    "Exemplo de saída:\n",
    "\n",
    "```\n",
    "Digite o comprimento da senha: 10\n",
    "8Zn$*2q9X\n",
    "```\n",
    "\n",
    "- Dica: use a biblioteca random e a função shuffle para embaralhar os caracteres da senha.\n",
    "- Dica: use a função choice, dessa mesma biblioteca, para escolher um caractere aleatório de uma string.\n",
    "- Dica: use a biblioteca string para obter uma lista de caracteres válidos para a senha."
   ]
  },
  {
   "cell_type": "code",
   "execution_count": 14,
   "id": "60546f62",
   "metadata": {},
   "outputs": [
    {
     "data": {
      "text/plain": [
       "\"\\ndef gerar_senha(senha):\\n    if senha < 4:\\n        print('senha invalida')\\n    caracteres = []\\n    caracteres.extend(string.ascii_letters)\\n    caracteres.extend(string.punctuation)\\n    caracteres.extend(string.digits)\\n\\n    senha_gerada = ''.join(random.choice(caracteres) for _ in range(senha))\\n    return senha_gerada\\n\\n\\nsenha = int(input('digitos da senha: '))\\nif senha < 4:\\n    print('senha invalida')\\nprint(gerar_senha(senha))\\n\""
      ]
     },
     "execution_count": 14,
     "metadata": {},
     "output_type": "execute_result"
    }
   ],
   "source": [
    "import random\n",
    "import string\n",
    "'''\n",
    "def gerar_senha(senha):\n",
    "    if senha < 4:\n",
    "        print('senha invalida')\n",
    "    caracteres = []\n",
    "    caracteres.extend(string.ascii_letters)\n",
    "    caracteres.extend(string.punctuation)\n",
    "    caracteres.extend(string.digits)\n",
    "\n",
    "    senha_gerada = ''.join(random.choice(caracteres) for _ in range(senha))\n",
    "    return senha_gerada\n",
    "\n",
    "\n",
    "senha = int(input('digitos da senha: '))\n",
    "if senha < 4:\n",
    "    print('senha invalida')\n",
    "print(gerar_senha(senha))\n",
    "'''"
   ]
  },
  {
   "cell_type": "code",
   "execution_count": 15,
   "id": "3f305674",
   "metadata": {},
   "outputs": [
    {
     "name": "stdout",
     "output_type": "stream",
     "text": [
      "2?/K.r\n"
     ]
    }
   ],
   "source": [
    "def gerar_senha(tamanho):\n",
    "    if tamanho < 4:\n",
    "        print('senha invalida')\n",
    "    else:\n",
    "        senha = [\n",
    "            random.choice(string.ascii_letters),\n",
    "            random.choice(string.digits),\n",
    "            random.choice(string.punctuation),\n",
    "        ]\n",
    "\n",
    "        possibilidades = \"\".join([string.ascii_letters, string.digits, string.punctuation])\n",
    "        senha.extend(random.choices(possibilidades, k=tamanho-3))\n",
    "\n",
    "        random.shuffle(senha)\n",
    "        return ''.join(senha) #-> join junta a lista, nesse caso com uma string vazia\n",
    "\n",
    "tamanho = int(input('digite o tamanho da senha: '))\n",
    "print(gerar_senha(tamanho))\n",
    "\n"
   ]
  }
 ],
 "metadata": {
  "kernelspec": {
   "display_name": "Python 3 (ipykernel)",
   "language": "python",
   "name": "python3"
  },
  "language_info": {
   "codemirror_mode": {
    "name": "ipython",
    "version": 3
   },
   "file_extension": ".py",
   "mimetype": "text/x-python",
   "name": "python",
   "nbconvert_exporter": "python",
   "pygments_lexer": "ipython3",
   "version": "3.11.1"
  }
 },
 "nbformat": 4,
 "nbformat_minor": 5
}

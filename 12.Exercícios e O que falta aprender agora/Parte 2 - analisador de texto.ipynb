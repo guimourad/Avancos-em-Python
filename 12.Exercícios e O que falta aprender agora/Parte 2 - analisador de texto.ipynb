{
 "cells": [
  {
   "cell_type": "markdown",
   "id": "bc53556e-a539-4328-b873-fa5357312414",
   "metadata": {},
   "source": [
    "Crie um programa que analise um texto fornecido pelo usuário. O programa deve contar o número de palavras (independentemente se há repetição ou não), a quantidade de cada palavra e a quantidade de cada letra. Ignore maiúsculas e minúsculas ao contar letras (ou seja, transforme tudo para minúsculas). Faça o devido tratamento para pontuação e espaços ao contar palavras.\n",
    "\n",
    "O programa deve conter uma função chamada `analisar_texto` que recebe o texto como parâmetro e retorna a contagem de palavras, a frequência de palavras e a frequência de letras. A função deve ser devidamente documentada.\n",
    "\n",
    "Para o texto \"Olá mundo! Este é um teste. Olá novamente.\" o programa deve imprimir:\n",
    "\n",
    "```\n",
    "Contagem de palavras: 8\n",
    "Frequência de palavras: Counter({'Olá': 2, 'mundo': 1, 'Este': 1, 'é': 1, 'um': 1, 'teste': 1, 'novamente': 1})\n",
    "Frequência de letras: Counter({' ': 7, 'e': 6, 'o': 4, 't': 4, 'm': 3, 'n': 3, 'l': 2, 'á': 2, 'u': 2, 's': 2, 'd': 1, 'é': 1, 'v': 1, 'a': 1})\n",
    "```\n",
    "\n",
    "Dica: use o módulo `string` para obter uma lista de caracteres de pontuação. Exemplo:\n",
    "\n",
    "```python\n",
    "import string\n",
    "print(string.punctuation)\n",
    "```\n",
    "\n",
    "Dica: use o módulo `collections` para obter um contador de palavras e letras. Exemplo:\n",
    "\n",
    "```python\n",
    "from collections import Counter\n",
    "print(Counter(['a', 'b', 'a', 'c', 'b', 'a']))\n",
    "print(Counter('abacba'))\n",
    "``` "
   ]
  },
  {
   "cell_type": "code",
   "execution_count": null,
   "id": "0438351c",
   "metadata": {},
   "outputs": [],
   "source": [
    "#contar quantas palavras tem na frase\n",
    "#contar a quantidade de cada palavra\n",
    "#contar a quantidade de cada letra\n",
    "#transformar tudo para minuscula"
   ]
  },
  {
   "cell_type": "code",
   "execution_count": 3,
   "id": "8feda3f2-210f-4224-9b53-de7206c039ae",
   "metadata": {},
   "outputs": [
    {
     "name": "stdout",
     "output_type": "stream",
     "text": [
      "!\"#$%&'()*+,-./:;<=>?@[\\]^_`{|}~\n",
      "abcdefghijklmnopqrstuvwxyz\n",
      "Counter({'a': 3, 'b': 2, 'c': 1})\n",
      "Counter({'a': 3, 'b': 2, 'c': 1})\n"
     ]
    }
   ],
   "source": [
    "import string\n",
    "print(string.punctuation)\n",
    "print(string.ascii_lowercase)\n",
    "\n",
    "from collections import Counter\n",
    "print(Counter(['a', 'b', 'a', 'c', 'b', 'a']))\n",
    "print(Counter('abacba'))\n"
   ]
  },
  {
   "cell_type": "code",
   "execution_count": 8,
   "id": "8ecbd159",
   "metadata": {},
   "outputs": [
    {
     "name": "stdout",
     "output_type": "stream",
     "text": [
      "contagem de palavras: 8\n",
      "frequencia de palavras: Counter({'Olá': 2, 'mundo!': 1, 'Este': 1, 'é': 1, 'um': 1, 'teste.': 1, 'novamente.': 1})\n",
      "frequencia de letras: Counter({' ': 7, 'e': 5, 't': 4, 'm': 3, 'n': 3, 'O': 2, 'l': 2, 'á': 2, 'u': 2, 'o': 2, 's': 2, '.': 2, 'd': 1, '!': 1, 'E': 1, 'é': 1, 'v': 1, 'a': 1})\n"
     ]
    }
   ],
   "source": [
    "def analisar_texto(texto):\n",
    "    palavras = texto.split()\n",
    "    contagem_palavras = len(palavras)\n",
    "    frequencia_palavras = Counter(palavras)\n",
    "    frequencia_letras = Counter(texto)\n",
    "\n",
    "    return contagem_palavras, frequencia_palavras, frequencia_letras\n",
    "\n",
    "texto = \"Olá mundo! Este é um teste. Olá novamente.\"\n",
    "\n",
    "contagem_palavras, frequencia_palavras, frequencia_letras = analisar_texto(texto)\n",
    "\n",
    "print(f'contagem de palavras: {contagem_palavras}')\n",
    "print(f'frequencia de palavras: {frequencia_palavras}')\n",
    "print(f'frequencia de letras: {frequencia_letras}')"
   ]
  },
  {
   "cell_type": "code",
   "execution_count": 9,
   "id": "c3be963f",
   "metadata": {},
   "outputs": [
    {
     "name": "stdout",
     "output_type": "stream",
     "text": [
      "{97: None, 101: 50, 105: 51, 111: 52, 117: 53}\n"
     ]
    }
   ],
   "source": [
    "vogais = 'aeiou'\n",
    "numeros = '12345'\n",
    "remover = 'a'\n",
    "\n",
    "guia_troca = str.maketrans(vogais, numeros, remover) #-> substituir vogais por numeros e remover 'a'\n",
    "print(guia_troca)"
   ]
  },
  {
   "cell_type": "code",
   "execution_count": 10,
   "id": "5e7fb76c",
   "metadata": {},
   "outputs": [
    {
     "name": "stdout",
     "output_type": "stream",
     "text": [
      "bcd2fgh3jklmn4pqrst5vwxyz\n"
     ]
    }
   ],
   "source": [
    "letras_minusculas = string.ascii_lowercase\n",
    "print(letras_minusculas.translate(guia_troca))#->tratar o texto para fazer as alterações"
   ]
  },
  {
   "cell_type": "code",
   "execution_count": 14,
   "id": "bd969f1a",
   "metadata": {},
   "outputs": [
    {
     "name": "stdout",
     "output_type": "stream",
     "text": [
      "contagem de palavras: 8\n",
      "frequencia de palavras: Counter({'Olá': 2, 'mundo': 1, 'Este': 1, 'é': 1, 'um': 1, 'teste': 1, 'novamente': 1})\n",
      "frequencia de letras: Counter({' ': 7, 'e': 6, 'o': 4, 't': 4, 'm': 3, 'n': 3, 'l': 2, 'á': 2, 'u': 2, 's': 2, 'd': 1, 'é': 1, 'v': 1, 'a': 1})\n"
     ]
    }
   ],
   "source": [
    "def analisar_texto(texto):\n",
    "    '''\n",
    "    analisa o texto fornecido e calcula a contagem de palavras, a frequencia de palavras e frequencia de letras.\n",
    "\n",
    "    Parameters\n",
    "    ----------\n",
    "    texto : str\n",
    "        texto a ser analisado\n",
    "    returns\n",
    "    -------\n",
    "    tuple\n",
    "        contagem de palavras, frequencia de palavras, frequencia de letras\n",
    "    '''\n",
    "    \n",
    "    tratamento = str.maketrans('', '', string.punctuation)\n",
    "    texto_tratado = texto.translate(tratamento)\n",
    "    palavras = texto_tratado.split()\n",
    "    contagem_palavras = len(palavras)\n",
    "    frequencia_palavras = Counter(palavras)\n",
    "    frequencia_letras = Counter(texto_tratado.lower())\n",
    "\n",
    "    return contagem_palavras, frequencia_palavras, frequencia_letras\n",
    "\n",
    "texto = \"Olá mundo! Este é um teste. Olá novamente.\"\n",
    "\n",
    "contagem_palavras, frequencia_palavras, frequencia_letras = analisar_texto(texto)\n",
    "\n",
    "print(f'contagem de palavras: {contagem_palavras}')\n",
    "print(f'frequencia de palavras: {frequencia_palavras}')\n",
    "print(f'frequencia de letras: {frequencia_letras}')"
   ]
  }
 ],
 "metadata": {
  "kernelspec": {
   "display_name": "Python 3 (ipykernel)",
   "language": "python",
   "name": "python3"
  },
  "language_info": {
   "codemirror_mode": {
    "name": "ipython",
    "version": 3
   },
   "file_extension": ".py",
   "mimetype": "text/x-python",
   "name": "python",
   "nbconvert_exporter": "python",
   "pygments_lexer": "ipython3",
   "version": "3.11.1"
  }
 },
 "nbformat": 4,
 "nbformat_minor": 5
}

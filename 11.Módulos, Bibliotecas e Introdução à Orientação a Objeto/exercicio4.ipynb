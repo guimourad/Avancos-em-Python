{
 "cells": [
  {
   "cell_type": "markdown",
   "metadata": {},
   "source": [
    "## Calculando a idade\n",
    "\n",
    "Um usuário fornece sua data de nascimento no formato \"dd/mm/aaaa\". Crie um script Python que calcula a idade do usuário.\n"
   ]
  },
  {
   "cell_type": "code",
   "execution_count": 34,
   "metadata": {},
   "outputs": [
    {
     "name": "stdout",
     "output_type": "stream",
     "text": [
      "27/11/2004\n"
     ]
    }
   ],
   "source": [
    "from datetime import datetime\n",
    "\n",
    "nascimento = input('data de nascimento (dd/mm/aaaa): ')\n",
    "print(nascimento)"
   ]
  },
  {
   "cell_type": "code",
   "execution_count": 35,
   "metadata": {},
   "outputs": [
    {
     "name": "stdout",
     "output_type": "stream",
     "text": [
      "2004-11-27 00:00:00\n"
     ]
    }
   ],
   "source": [
    "nascimento = datetime.strptime(nascimento, \"%d/%m/%Y\")\n",
    "print(nascimento)"
   ]
  },
  {
   "cell_type": "code",
   "execution_count": 36,
   "metadata": {},
   "outputs": [
    {
     "name": "stdout",
     "output_type": "stream",
     "text": [
      "2024-07-23 00:18:37.138474\n"
     ]
    }
   ],
   "source": [
    "data_atual = datetime.now()\n",
    "print(data_atual)"
   ]
  },
  {
   "cell_type": "code",
   "execution_count": 37,
   "metadata": {},
   "outputs": [
    {
     "name": "stdout",
     "output_type": "stream",
     "text": [
      "20\n"
     ]
    }
   ],
   "source": [
    "idade = data_atual.year - nascimento.year\n",
    "print(idade)"
   ]
  },
  {
   "cell_type": "code",
   "execution_count": 38,
   "metadata": {},
   "outputs": [
    {
     "name": "stdout",
     "output_type": "stream",
     "text": [
      "19\n"
     ]
    }
   ],
   "source": [
    "mes_atual = data_atual.month\n",
    "dia_atual = data_atual.day\n",
    "\n",
    "mes_nascimento = nascimento.month\n",
    "dia_nascimento = nascimento.day\n",
    "\n",
    "if mes_atual < mes_nascimento and dia_atual < dia_nascimento:\n",
    "    idade -= 1\n",
    "elif mes_atual == mes_nascimento and dia_atual < dia_nascimento:\n",
    "    idade -= 1\n",
    "\n",
    "print(idade)"
   ]
  }
 ],
 "metadata": {
  "kernelspec": {
   "display_name": "Python 3 (ipykernel)",
   "language": "python",
   "name": "python3"
  },
  "language_info": {
   "codemirror_mode": {
    "name": "ipython",
    "version": 3
   },
   "file_extension": ".py",
   "mimetype": "text/x-python",
   "name": "python",
   "nbconvert_exporter": "python",
   "pygments_lexer": "ipython3",
   "version": "3.11.1"
  }
 },
 "nbformat": 4,
 "nbformat_minor": 4
}

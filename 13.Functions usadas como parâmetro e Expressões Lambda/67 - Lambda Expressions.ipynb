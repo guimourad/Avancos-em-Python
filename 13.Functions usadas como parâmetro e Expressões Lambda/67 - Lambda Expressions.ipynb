{
 "cells": [
  {
   "cell_type": "markdown",
   "metadata": {},
   "source": [
    "# Lambda Expressions\n",
    "\n",
    "### Objetivo:\n",
    "\n",
    "- As lambdas expressions são funções anônimas (sem nome mesmo) que tem 1 linha de código e são atribuidas a uma variável, como se a variável virasse uma função.\n",
    "- Elas normalmente são usadas para fazer uma única ação, mas em Python usamos principalmente dentro de métodos como argumento, para não precisarmos criar uma função só para isso (vamos ver isso na aula que vem)\n",
    "- Outra aplicação delas está em criar um \"gerador de funções\" (vamos ver na 3ª Aula dessa Seção)\n",
    "\n",
    "### Obs\n",
    "\n",
    "- Não é \"obrigatório\" usar lambda expression, até porque praticamente tudo o que você faz com elas você consegue fazer com functions normais. Mas, é importante saber entender quando encontrar e saber usar a medida que você for se acostumando e vendo necessidade\n",
    "\n",
    "### Estrutura:"
   ]
  },
  {
   "cell_type": "raw",
   "metadata": {},
   "source": [
    "minha_funcao = lambda parametro: expressão"
   ]
  },
  {
   "cell_type": "markdown",
   "metadata": {},
   "source": [
    "- Exemplo mais simples"
   ]
  },
  {
   "cell_type": "code",
   "execution_count": 1,
   "metadata": {},
   "outputs": [
    {
     "name": "stdout",
     "output_type": "stream",
     "text": [
      "15\n",
      "15\n"
     ]
    }
   ],
   "source": [
    "def minha_função(num):\n",
    "    return num * 3\n",
    "print(minha_função(5))\n",
    "\n",
    "minhaFunção = lambda num: num * 3\n",
    "print(minhaFunção(5))"
   ]
  },
  {
   "cell_type": "markdown",
   "metadata": {},
   "source": [
    "- Exemplo útil: Vamos usar lambda expressions para criar uma função que calcula o preço dos produtos acrescido do imposto"
   ]
  },
  {
   "cell_type": "code",
   "execution_count": 5,
   "metadata": {},
   "outputs": [
    {
     "name": "stdout",
     "output_type": "stream",
     "text": [
      "13.0\n",
      "preço com o imposto: 13.0\n"
     ]
    }
   ],
   "source": [
    "imposto = 0.3\n",
    "\n",
    "def precoImposto(preco):\n",
    "    return preco + (preco * imposto)\n",
    "\n",
    "print(precoImposto(10))\n",
    "\n",
    "precoI = lambda preco: preco + (preco * imposto)\n",
    "\n",
    "print(f'preço com o imposto: {precoI(10)}')"
   ]
  }
 ],
 "metadata": {
  "kernelspec": {
   "display_name": "Python 3",
   "language": "python",
   "name": "python3"
  },
  "language_info": {
   "codemirror_mode": {
    "name": "ipython",
    "version": 3
   },
   "file_extension": ".py",
   "mimetype": "text/x-python",
   "name": "python",
   "nbconvert_exporter": "python",
   "pygments_lexer": "ipython3",
   "version": "3.11.1"
  }
 },
 "nbformat": 4,
 "nbformat_minor": 4
}
